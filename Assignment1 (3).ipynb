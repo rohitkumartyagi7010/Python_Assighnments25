{
 "cells": [
  {
   "cell_type": "markdown",
   "id": "5e279e32-925f-4cad-ba7c-e2d92b0134ee",
   "metadata": {},
   "source": [
    "# ------------------------------Assignment1------------------------------"
   ]
  },
  {
   "cell_type": "markdown",
   "id": "01ce296e-cf51-46b2-a472-f26316de8605",
   "metadata": {},
   "source": [
    "1. Write a Python program to print \"Hello Python\"?"
   ]
  },
  {
   "cell_type": "code",
   "execution_count": 1,
   "id": "82986b06-a674-4501-bb13-06b12e5e0708",
   "metadata": {},
   "outputs": [
    {
     "name": "stdout",
     "output_type": "stream",
     "text": [
      "Hello Python\n"
     ]
    }
   ],
   "source": [
    "print(\"Hello Python\")"
   ]
  },
  {
   "cell_type": "markdown",
   "id": "c14afa90-5204-43b3-9ab7-35955b202d10",
   "metadata": {},
   "source": [
    "2. Write a Python program to do arithmetical operations addition and division.?"
   ]
  },
  {
   "cell_type": "code",
   "execution_count": 4,
   "id": "a28edc5a-0f28-480a-b26c-81fee50f93f4",
   "metadata": {},
   "outputs": [
    {
     "name": "stdout",
     "output_type": "stream",
     "text": [
      "Addition is :  40\n",
      "Division is : 1.0\n"
     ]
    }
   ],
   "source": [
    "number1 = 20\n",
    "number2 = 20\n",
    "total = number1 + number2\n",
    "division = number1/number2\n",
    "print(\"Addition is : \",total)\n",
    "print(\"Division is :\",division)"
   ]
  },
  {
   "cell_type": "markdown",
   "id": "a1230c2b-04b7-42ec-ba71-5563956b3084",
   "metadata": {},
   "source": [
    "3.Write a Python program to find the area of a triangle?"
   ]
  },
  {
   "cell_type": "code",
   "execution_count": 6,
   "id": "1932ab25-8b51-404f-b517-5044e025238c",
   "metadata": {},
   "outputs": [
    {
     "name": "stdin",
     "output_type": "stream",
     "text": [
      "Enter the value of base :  10\n",
      "Enter the value of height : 40\n"
     ]
    },
    {
     "name": "stdout",
     "output_type": "stream",
     "text": [
      "Area of triangle is :  200.0\n"
     ]
    }
   ],
   "source": [
    "# area of triangle \n",
    "# 1/2 * base * height \n",
    "\n",
    "base = int(input(\"Enter the value of base : \"))\n",
    "height = int(input(\"Enter the value of height :\"))\n",
    "area = 1/2*(base)*height\n",
    "print(\"Area of triangle is : \",area)"
   ]
  },
  {
   "cell_type": "markdown",
   "id": "bff98d4f-da6d-40e5-9e60-8dfb89f96e17",
   "metadata": {},
   "source": [
    "4. Write a Python program to swap two variables?"
   ]
  },
  {
   "cell_type": "code",
   "execution_count": 9,
   "id": "b7e0e192-960c-417e-ba3d-67f2e8cb0a70",
   "metadata": {},
   "outputs": [
    {
     "name": "stdout",
     "output_type": "stream",
     "text": [
      "First variable value after swap  :  30\n",
      "Second variable value after swap:  20\n"
     ]
    }
   ],
   "source": [
    "first_variable = 20\n",
    "second_variable = 30\n",
    "first_variable,second_variable = second_variable,first_variable\n",
    "\n",
    "print(\"First variable value after swap  : \",first_variable)\n",
    "print(\"Second variable value after swap: \",second_variable)"
   ]
  },
  {
   "cell_type": "markdown",
   "id": "a4cd7490-8bad-413d-91f2-c9c7293d9d02",
   "metadata": {},
   "source": [
    "5. Write a Python program to generate a random number?"
   ]
  },
  {
   "cell_type": "code",
   "execution_count": 16,
   "id": "0539f7ec-9ba9-4fd9-9b7c-112a65299841",
   "metadata": {},
   "outputs": [
    {
     "data": {
      "text/plain": [
       "0.626761984869038"
      ]
     },
     "execution_count": 16,
     "metadata": {},
     "output_type": "execute_result"
    }
   ],
   "source": [
    "import random\n",
    "random.random()"
   ]
  },
  {
   "cell_type": "code",
   "execution_count": 36,
   "id": "957e6eb4-ba1b-49c7-ad4e-ded1d2bef782",
   "metadata": {},
   "outputs": [
    {
     "data": {
      "text/plain": [
       "6167"
      ]
     },
     "execution_count": 36,
     "metadata": {},
     "output_type": "execute_result"
    }
   ],
   "source": [
    "import random\n",
    "random.randint(1000,9999)"
   ]
  },
  {
   "cell_type": "code",
   "execution_count": 45,
   "id": "31b51168-4c0e-4719-a0f1-796e27fc37aa",
   "metadata": {},
   "outputs": [
    {
     "name": "stdout",
     "output_type": "stream",
     "text": [
      "9\n"
     ]
    }
   ],
   "source": [
    "import random\n",
    "print(random.randrange(1,36,2))"
   ]
  },
  {
   "cell_type": "code",
   "execution_count": null,
   "id": "b0275ba8-0dc2-449e-917e-d8bcee4a12c5",
   "metadata": {},
   "outputs": [],
   "source": []
  },
  {
   "cell_type": "code",
   "execution_count": null,
   "id": "d68e6de4-a040-4065-be42-0f7256e27736",
   "metadata": {},
   "outputs": [],
   "source": []
  },
  {
   "cell_type": "code",
   "execution_count": null,
   "id": "5189be25-3a1f-42d8-b735-5e5d85f8b049",
   "metadata": {},
   "outputs": [],
   "source": []
  }
 ],
 "metadata": {
  "kernelspec": {
   "display_name": "Python 3 (ipykernel)",
   "language": "python",
   "name": "python3"
  },
  "language_info": {
   "codemirror_mode": {
    "name": "ipython",
    "version": 3
   },
   "file_extension": ".py",
   "mimetype": "text/x-python",
   "name": "python",
   "nbconvert_exporter": "python",
   "pygments_lexer": "ipython3",
   "version": "3.11.7"
  }
 },
 "nbformat": 4,
 "nbformat_minor": 5
}
